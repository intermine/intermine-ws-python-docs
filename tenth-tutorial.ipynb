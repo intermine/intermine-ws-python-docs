{
 "cells": [
  {
   "cell_type": "markdown",
   "metadata": {},
   "source": [
    "# Intermine-Python: Tutorial 10: Enrichment Calculations on Lists"
   ]
  },
  {
   "cell_type": "markdown",
   "metadata": {},
   "source": [
    "This tutorial will talk about how you can perform enrichment calculations on lists that you have access to. "
   ]
  },
  {
   "cell_type": "code",
   "execution_count": 1,
   "metadata": {},
   "outputs": [],
   "source": [
    "from intermine.webservice import Service"
   ]
  },
  {
   "cell_type": "code",
   "execution_count": 2,
   "metadata": {},
   "outputs": [],
   "source": [
    "service = Service(\"www.flymine.org/query/service\")"
   ]
  },
  {
   "cell_type": "markdown",
   "metadata": {},
   "source": [
    "The intermine service has various widgets that can perform different functions. These widgets are stored in a dicitionary in the Service class. To view all the widgets use service.widgets."
   ]
  },
  {
   "cell_type": "code",
   "execution_count": 3,
   "metadata": {},
   "outputs": [
    {
     "data": {
      "text/plain": [
       "{'bdgp': {'chartType': 'ColumnChart',\n",
       "  'description': 'Expression patterns of Drosophila mRNAs during embryogenesis - data from  <a href=\"http://www.fruitfly.org/cgi-bin/ex/insitu.pl\" target=\"_new\">BGDP</a>.  Note that not all genes have been assayed by <a href=\"http://www.fruitfly.org/cgi-bin/ex/insitu.pl\" target=\"_new\">BGDP</a>. ',\n",
       "  'filters': None,\n",
       "  'labels': {'x': 'Stage', 'y': 'Gene count'},\n",
       "  'name': 'bdgp',\n",
       "  'startClass': 'Gene',\n",
       "  'targets': ['Gene'],\n",
       "  'title': 'BDGP expression patterns',\n",
       "  'widgetType': 'chart'},\n",
       " 'bdgp_enrichment': {'description': 'ImaGO terms enriched for genes in this list - data from <a href=\"http://www.fruitfly.org/cgi-bin/ex/insitu.pl\" target=\"_new\">BDGP</a>.  Note that not all genes have been assayed by BDGP.',\n",
       "  'enrich': 'mRNAExpressionResults.mRNAExpressionTerms[MRNAExpressionTerm].name',\n",
       "  'enrichIdentifier': None,\n",
       "  'filters': None,\n",
       "  'name': 'bdgp_enrichment',\n",
       "  'startClass': 'Gene',\n",
       "  'startClassDisplay': 'primaryIdentifier',\n",
       "  'targets': ['Gene'],\n",
       "  'title': 'BDGP Enrichment',\n",
       "  'widgetType': 'enrichment'},\n",
       " 'chromosome_distribution_for_gene': {'chartType': 'ColumnChart',\n",
       "  'description': 'Actual: number of items in this list found on each chromosome.  Expected: given the total number of items on the chromosome and the number of items in this list, the number of items expected to be found on each chromosome.',\n",
       "  'filters': 'organism.name=[list]',\n",
       "  'labels': {'x': 'Chromosome', 'y': 'Count'},\n",
       "  'name': 'chromosome_distribution_for_gene',\n",
       "  'startClass': 'SequenceFeature',\n",
       "  'targets': ['SequenceFeature'],\n",
       "  'title': 'Chromosome Distribution',\n",
       "  'widgetType': 'chart'},\n",
       " 'flyatlas_for_gene': {'chartType': 'BarChart',\n",
       "  'description': 'For each tissue in the fly, the number of genes from this list for which the levels of expression are significantly high (Up) or low (Down) according to <a href=\"http://www.flyatlas.org/\" target=\"_new\">FlyAtlas</a> AffyCall.',\n",
       "  'filters': None,\n",
       "  'labels': {'x': 'Tissue', 'y': 'Up (+) or Down (-) gene count'},\n",
       "  'name': 'flyatlas_for_gene',\n",
       "  'startClass': 'FlyAtlasResult',\n",
       "  'targets': ['Gene'],\n",
       "  'title': 'Gene Expression in the Fly (FlyAtlas)',\n",
       "  'widgetType': 'chart'},\n",
       " 'flyatlas_for_probeset': {'chartType': 'BarChart',\n",
       "  'description': 'For each tissue, the number of genes from this list for which the levels of expression are significantly high (Up) or low (Down) according to <a href=\"http://www.flyatlas.org/\" target=\"_new\">FlyAtlas</a> AffyCall.',\n",
       "  'filters': None,\n",
       "  'labels': {'x': 'Tissue', 'y': 'Up (+) or Down (-) gene count'},\n",
       "  'name': 'flyatlas_for_probeset',\n",
       "  'startClass': 'FlyAtlasResult',\n",
       "  'targets': ['ProbeSet'],\n",
       "  'title': 'Gene Expression in Fly Tissues (FlyAtlas Data)',\n",
       "  'widgetType': 'chart'},\n",
       " 'flyfish': {'chartType': 'ColumnChart',\n",
       "  'description': 'Expression patterns of Drosophila mRNAs at the subcellular level during early embryogenesis - data from  <a href=\"http://fly-fish.ccbr.utoronto.ca/\" target=\"_new\">Fly-FISH</a>.  Note that not all genes have been assayed by <a href=\"http://fly-fish.ccbr.utoronto.ca/\" target=\"_new\">Fly-FISH</a>.',\n",
       "  'filters': None,\n",
       "  'labels': {'x': 'Stage', 'y': 'Gene count'},\n",
       "  'name': 'flyfish',\n",
       "  'startClass': 'Gene',\n",
       "  'targets': ['Gene'],\n",
       "  'title': 'mRNA subcellular localisation (fly-FISH)',\n",
       "  'widgetType': 'chart'},\n",
       " 'go_enrichment_for_gene': {'description': 'GO terms enriched for items in this list.',\n",
       "  'enrich': 'goAnnotation.ontologyTerm.parents.name',\n",
       "  'enrichIdentifier': 'goAnnotation.ontologyTerm.parents.identifier',\n",
       "  'filters': 'biological_process,cellular_component,molecular_function',\n",
       "  'name': 'go_enrichment_for_gene',\n",
       "  'startClass': 'Gene',\n",
       "  'startClassDisplay': 'primaryIdentifier',\n",
       "  'targets': ['Gene'],\n",
       "  'title': 'Gene Ontology Enrichment',\n",
       "  'widgetType': 'enrichment'},\n",
       " 'miranda_enrichment': {'description': 'MiRNAs enriched for items in this list.',\n",
       "  'enrich': 'transcripts[MRNA].miRNAinteractions.mirnagene.symbol',\n",
       "  'enrichIdentifier': None,\n",
       "  'filters': None,\n",
       "  'name': 'miranda_enrichment',\n",
       "  'startClass': 'Gene',\n",
       "  'startClassDisplay': 'symbol',\n",
       "  'targets': ['Gene'],\n",
       "  'title': 'MiRNA Enrichment',\n",
       "  'widgetType': 'enrichment'},\n",
       " 'orthologues': {'description': 'Counts of genes in list with orthologues.',\n",
       "  'filters': None,\n",
       "  'name': 'orthologues',\n",
       "  'startClass': None,\n",
       "  'targets': ['Gene'],\n",
       "  'title': 'Orthologues',\n",
       "  'widgetType': 'table'},\n",
       " 'pathway_enrichment': {'description': 'Pathways enriched for genes in this list - data from KEGG and Reactome',\n",
       "  'enrich': 'pathways.name',\n",
       "  'enrichIdentifier': 'pathways.identifier',\n",
       "  'filters': 'All,KEGG pathways data set,Reactome data set',\n",
       "  'name': 'pathway_enrichment',\n",
       "  'startClass': 'Gene',\n",
       "  'startClassDisplay': 'primaryIdentifier',\n",
       "  'targets': ['Gene'],\n",
       "  'title': 'Pathway Enrichment',\n",
       "  'widgetType': 'enrichment'},\n",
       " 'prot_dom_enrichment_for_gene': {'description': 'Protein Domains enriched for items in this list.',\n",
       "  'enrich': 'proteins.proteinDomainRegions.proteinDomain.name',\n",
       "  'enrichIdentifier': 'proteins.proteinDomainRegions.proteinDomain.primaryIdentifier',\n",
       "  'filters': None,\n",
       "  'name': 'prot_dom_enrichment_for_gene',\n",
       "  'startClass': 'Gene',\n",
       "  'startClassDisplay': 'primaryIdentifier',\n",
       "  'targets': ['Gene'],\n",
       "  'title': 'Protein Domain Enrichment',\n",
       "  'widgetType': 'enrichment'},\n",
       " 'prot_dom_enrichment_for_protein': {'description': 'Protein Domains enriched for items in this list.',\n",
       "  'enrich': 'proteinDomainRegions.proteinDomain.name',\n",
       "  'enrichIdentifier': 'proteinDomainRegions.proteinDomain.primaryIdentifier',\n",
       "  'filters': None,\n",
       "  'name': 'prot_dom_enrichment_for_protein',\n",
       "  'startClass': 'Protein',\n",
       "  'startClassDisplay': 'primaryIdentifier',\n",
       "  'targets': ['Protein'],\n",
       "  'title': 'Protein Domain Enrichment',\n",
       "  'widgetType': 'enrichment'},\n",
       " 'protein_features': {'description': 'UniProt features enriched for proteins in this list.',\n",
       "  'enrich': 'features.type',\n",
       "  'enrichIdentifier': 'features.type',\n",
       "  'filters': None,\n",
       "  'name': 'protein_features',\n",
       "  'startClass': 'Protein',\n",
       "  'startClassDisplay': 'primaryIdentifier',\n",
       "  'targets': ['Protein'],\n",
       "  'title': 'UniProt Features',\n",
       "  'widgetType': 'enrichment'},\n",
       " 'publication_enrichment': {'description': 'Publications enriched for genes in this list.',\n",
       "  'enrich': 'publications.title',\n",
       "  'enrichIdentifier': 'publications.pubMedId',\n",
       "  'filters': None,\n",
       "  'name': 'publication_enrichment',\n",
       "  'startClass': 'Gene',\n",
       "  'startClassDisplay': 'primaryIdentifier',\n",
       "  'targets': ['Gene'],\n",
       "  'title': 'Publication Enrichment',\n",
       "  'widgetType': 'enrichment'},\n",
       " 'uniprot_keywords': {'description': 'UniProt keywords enriched for proteins in this list.',\n",
       "  'enrich': 'keywords.name',\n",
       "  'enrichIdentifier': None,\n",
       "  'filters': None,\n",
       "  'name': 'uniprot_keywords',\n",
       "  'startClass': 'Protein',\n",
       "  'startClassDisplay': 'primaryIdentifier',\n",
       "  'targets': ['Protein'],\n",
       "  'title': 'UniProt Keywords',\n",
       "  'widgetType': 'enrichment'}}"
      ]
     },
     "execution_count": 3,
     "metadata": {},
     "output_type": "execute_result"
    }
   ],
   "source": [
    "service.widgets"
   ]
  },
  {
   "cell_type": "markdown",
   "metadata": {},
   "source": [
    "If you want to view only those widgets that are related to enrichment, you can use filter based on the widget type. I've printed all the enrichment related widgets below. "
   ]
  },
  {
   "cell_type": "code",
   "execution_count": 7,
   "metadata": {},
   "outputs": [
    {
     "name": "stdout",
     "output_type": "stream",
     "text": [
      "{'startClass': 'Gene', 'title': 'Publication Enrichment', 'widgetType': 'enrichment', 'description': 'Publications enriched for genes in this list.', 'enrichIdentifier': 'publications.pubMedId', 'name': 'publication_enrichment', 'startClassDisplay': 'primaryIdentifier', 'enrich': 'publications.title', 'targets': ['Gene'], 'filters': None}\n",
      "{'startClass': 'Protein', 'title': 'UniProt Keywords', 'widgetType': 'enrichment', 'description': 'UniProt keywords enriched for proteins in this list.', 'enrichIdentifier': None, 'name': 'uniprot_keywords', 'startClassDisplay': 'primaryIdentifier', 'enrich': 'keywords.name', 'targets': ['Protein'], 'filters': None}\n",
      "{'startClass': 'Protein', 'title': 'UniProt Features', 'widgetType': 'enrichment', 'description': 'UniProt features enriched for proteins in this list.', 'enrichIdentifier': 'features.type', 'name': 'protein_features', 'startClassDisplay': 'primaryIdentifier', 'enrich': 'features.type', 'targets': ['Protein'], 'filters': None}\n",
      "{'startClass': 'Gene', 'title': 'Pathway Enrichment', 'widgetType': 'enrichment', 'description': 'Pathways enriched for genes in this list - data from KEGG and Reactome', 'enrichIdentifier': 'pathways.identifier', 'name': 'pathway_enrichment', 'startClassDisplay': 'primaryIdentifier', 'enrich': 'pathways.name', 'targets': ['Gene'], 'filters': 'All,KEGG pathways data set,Reactome data set'}\n",
      "{'startClass': 'Gene', 'title': 'Protein Domain Enrichment', 'widgetType': 'enrichment', 'description': 'Protein Domains enriched for items in this list.', 'enrichIdentifier': 'proteins.proteinDomainRegions.proteinDomain.primaryIdentifier', 'name': 'prot_dom_enrichment_for_gene', 'startClassDisplay': 'primaryIdentifier', 'enrich': 'proteins.proteinDomainRegions.proteinDomain.name', 'targets': ['Gene'], 'filters': None}\n",
      "{'startClass': 'Protein', 'title': 'Protein Domain Enrichment', 'widgetType': 'enrichment', 'description': 'Protein Domains enriched for items in this list.', 'enrichIdentifier': 'proteinDomainRegions.proteinDomain.primaryIdentifier', 'name': 'prot_dom_enrichment_for_protein', 'startClassDisplay': 'primaryIdentifier', 'enrich': 'proteinDomainRegions.proteinDomain.name', 'targets': ['Protein'], 'filters': None}\n",
      "{'startClass': 'Gene', 'title': 'MiRNA Enrichment', 'widgetType': 'enrichment', 'description': 'MiRNAs enriched for items in this list.', 'enrichIdentifier': None, 'name': 'miranda_enrichment', 'startClassDisplay': 'symbol', 'enrich': 'transcripts[MRNA].miRNAinteractions.mirnagene.symbol', 'targets': ['Gene'], 'filters': None}\n",
      "{'startClass': 'Gene', 'title': 'Gene Ontology Enrichment', 'widgetType': 'enrichment', 'description': 'GO terms enriched for items in this list.', 'enrichIdentifier': 'goAnnotation.ontologyTerm.parents.identifier', 'name': 'go_enrichment_for_gene', 'startClassDisplay': 'primaryIdentifier', 'enrich': 'goAnnotation.ontologyTerm.parents.name', 'targets': ['Gene'], 'filters': 'biological_process,cellular_component,molecular_function'}\n",
      "{'startClass': 'Gene', 'title': 'BDGP Enrichment', 'widgetType': 'enrichment', 'description': 'ImaGO terms enriched for genes in this list - data from <a href=\"http://www.fruitfly.org/cgi-bin/ex/insitu.pl\" target=\"_new\">BDGP</a>.  Note that not all genes have been assayed by BDGP.', 'enrichIdentifier': None, 'name': 'bdgp_enrichment', 'startClassDisplay': 'primaryIdentifier', 'enrich': 'mRNAExpressionResults.mRNAExpressionTerms[MRNAExpressionTerm].name', 'targets': ['Gene'], 'filters': None}\n"
     ]
    }
   ],
   "source": [
    "for widget_name, widget in service.widgets.items():\n",
    "    if widget[\"widgetType\"]==\"enrichment\":\n",
    "        print(widget)"
   ]
  },
  {
   "cell_type": "markdown",
   "metadata": {},
   "source": [
    "We will now get a list on which we want to perform the analysis using the list manager. "
   ]
  },
  {
   "cell_type": "code",
   "execution_count": 6,
   "metadata": {
    "collapsed": true
   },
   "outputs": [],
   "source": [
    "lm=service.list_manager()"
   ]
  },
  {
   "cell_type": "code",
   "execution_count": 11,
   "metadata": {
    "collapsed": true
   },
   "outputs": [],
   "source": [
    "l=lm.get_list(name=\"PL FlyAtlas_brain_top\")"
   ]
  },
  {
   "cell_type": "markdown",
   "metadata": {},
   "source": [
    "To perform any enrichment analysis on the list use the calculate_enrichment method. I've stored the results in \"r\". We will now iterate through R and view the results. "
   ]
  },
  {
   "cell_type": "code",
   "execution_count": 14,
   "metadata": {},
   "outputs": [],
   "source": [
    "r=l.calculate_enrichment(widget=\"publication_enrichment\",maxp=0.01)"
   ]
  },
  {
   "cell_type": "code",
   "execution_count": 15,
   "metadata": {},
   "outputs": [
    {
     "name": "stdout",
     "output_type": "stream",
     "text": [
      "22683328 Mutation of Drosophila dopamine receptor DopR leads to male-male courtship behavior. 0.0004688789939719088\n",
      "23895060 Temporally dimorphic recruitment of dopamine neurons into stress response circuitry in Drosophila. 0.0004688789939719088\n",
      "24128361 Sexually dimorphic recruitment of dopamine neurons into the stress response circuitry. 0.0004688789939719088\n",
      "15987944 Rapid, nongenomic responses to ecdysteroids and catecholamines mediated by a novel Drosophila G-protein-coupled receptor. 0.0018724024048451117\n",
      "17986026 Suppression of excitatory cholinergic synaptic transmission by Drosophila dopamine D1-like receptors. 0.0018724024048451117\n",
      "24303109 Pharmacological analysis of dopamine modulation in the Drosophila melanogaster larval heart. 0.0018724024048451117\n",
      "21286249 Sleep deprivation during early-adult development results in long-lasting learning deficits in adult Drosophila. 0.009331628487951982\n",
      "21455291 Dopamine signalling in mushroom bodies regulates temperature-preference behaviour in Drosophila. 0.009331628487951982\n",
      "25632118 Behavioral and circuit basis of sucrose rejection by Drosophila females in a simple decision-making task. 0.009331628487951982\n"
     ]
    }
   ],
   "source": [
    "for i in r:\n",
    "    print(i.identifier,i.description,i.p_value)"
   ]
  },
  {
   "cell_type": "markdown",
   "metadata": {
    "collapsed": true
   },
   "source": [
    "This is how you can perform enrichment calculations on lists of your choice. "
   ]
  }
 ],
 "metadata": {
  "anaconda-cloud": {},
  "kernelspec": {
   "display_name": "Python 3",
   "language": "python",
   "name": "python3"
  },
  "language_info": {
   "codemirror_mode": {
    "name": "ipython",
    "version": 3
   },
   "file_extension": ".py",
   "mimetype": "text/x-python",
   "name": "python",
   "nbconvert_exporter": "python",
   "pygments_lexer": "ipython3",
   "version": "3.6.3"
  }
 },
 "nbformat": 4,
 "nbformat_minor": 1
}
