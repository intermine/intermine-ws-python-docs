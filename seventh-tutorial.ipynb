{
 "cells": [
  {
   "cell_type": "markdown",
   "metadata": {},
   "source": [
    "# Intermine-Python: Tutorial 7: Templates"
   ]
  },
  {
   "cell_type": "markdown",
   "metadata": {},
   "source": [
    "Templates are exactly like queries and can do everything that a query can do. "
   ]
  },
  {
   "cell_type": "markdown",
   "metadata": {},
   "source": [
    "While writing queries of your own, you would have probably realized that there is a lot of duplication of effort. Templates are basically pre defined queries that can be run numerous times and certain values can also be changed easily. "
   ]
  },
  {
   "cell_type": "markdown",
   "metadata": {},
   "source": [
    "Everything that you can do with a query - add new constraints, add new views, process the results using the results iterator can be done with templates as well. "
   ]
  },
  {
   "cell_type": "markdown",
   "metadata": {},
   "source": [
    "We will begin with a simple example. Let's say you want to extract the publication information about various Genes related to an organism. There is already a set template for this process. We begin by importing the Service class and then create a template object. The parameter that we pass to the get template method is the name of the template. "
   ]
  },
  {
   "cell_type": "code",
   "execution_count": 1,
   "metadata": {
    "collapsed": true
   },
   "outputs": [],
   "source": [
    "from intermine.webservice import Service"
   ]
  },
  {
   "cell_type": "code",
   "execution_count": 2,
   "metadata": {
    "collapsed": true
   },
   "outputs": [],
   "source": [
    "service = Service(\"www.flymine.org/query/service\")"
   ]
  },
  {
   "cell_type": "code",
   "execution_count": 3,
   "metadata": {
    "collapsed": true
   },
   "outputs": [],
   "source": [
    "template=service.get_template('All_Genes_In_Organism_To_Publications')"
   ]
  },
  {
   "cell_type": "markdown",
   "metadata": {},
   "source": [
    "To check the columns that our results will have you can use template.views. If you want to add a column use the add_view/add_views method. "
   ]
  },
  {
   "cell_type": "code",
   "execution_count": 4,
   "metadata": {},
   "outputs": [
    {
     "data": {
      "text/plain": [
       "['Gene.secondaryIdentifier',\n",
       " 'Gene.publications.pubMedId',\n",
       " 'Gene.publications.firstAuthor',\n",
       " 'Gene.publications.journal',\n",
       " 'Gene.publications.year',\n",
       " 'Gene.organism.name']"
      ]
     },
     "execution_count": 4,
     "metadata": {},
     "output_type": "execute_result"
    }
   ],
   "source": [
    "template.views"
   ]
  },
  {
   "cell_type": "code",
   "execution_count": 5,
   "metadata": {},
   "outputs": [
    {
     "data": {
      "text/plain": [
       "{'A': <TemplateBinaryConstraint: Gene.organism.name = Drosophila melanogaster (editable, locked)>}"
      ]
     },
     "execution_count": 5,
     "metadata": {},
     "output_type": "execute_result"
    }
   ],
   "source": [
    "template.constraint_dict"
   ]
  },
  {
   "cell_type": "markdown",
   "metadata": {},
   "source": [
    "If you want to look at the current constraints, use template.constraint_dict. There is only one constraint which is editable, i.e. you can change the value or operator if you want. However, even for editable constraints you are not allowed to change the path of the constraint. "
   ]
  },
  {
   "cell_type": "markdown",
   "metadata": {},
   "source": [
    "To view the results we can use the results iterator as we learned previously. "
   ]
  },
  {
   "cell_type": "code",
   "execution_count": 6,
   "metadata": {},
   "outputs": [
    {
     "name": "stdout",
     "output_type": "stream",
     "text": [
      "Gene: secondaryIdentifier='CG10000' publications.pubMedId='10731132' publications.firstAuthor='Adams M D' publications.journal='Science' publications.year=2000 organism.name='Drosophila melanogaster'\n",
      "Gene: secondaryIdentifier='CG10000' publications.pubMedId='11925450' publications.firstAuthor='Schwientek Tilo' publications.journal='J. Biol. Chem.' publications.year=2002 organism.name='Drosophila melanogaster'\n",
      "Gene: secondaryIdentifier='CG10000' publications.pubMedId='12537568' publications.firstAuthor='Celniker Susan E' publications.journal='Genome Biol.' publications.year=2002 organism.name='Drosophila melanogaster'\n",
      "Gene: secondaryIdentifier='CG10000' publications.pubMedId='12537569' publications.firstAuthor='Stapleton Mark' publications.journal='Genome Biol.' publications.year=2002 organism.name='Drosophila melanogaster'\n",
      "Gene: secondaryIdentifier='CG10000' publications.pubMedId='12537572' publications.firstAuthor='Misra Sima' publications.journal='Genome Biol.' publications.year=2002 organism.name='Drosophila melanogaster'\n",
      "Gene: secondaryIdentifier='CG10000' publications.pubMedId='12537573' publications.firstAuthor='Kaminker Joshua S' publications.journal='Genome Biol.' publications.year=2002 organism.name='Drosophila melanogaster'\n",
      "Gene: secondaryIdentifier='CG10000' publications.pubMedId='12537574' publications.firstAuthor='Hoskins Roger A' publications.journal='Genome Biol.' publications.year=2002 organism.name='Drosophila melanogaster'\n",
      "Gene: secondaryIdentifier='CG10000' publications.pubMedId='12829714' publications.firstAuthor='Ten Hagen Kelly G' publications.journal='J. Biol. Chem.' publications.year=2003 organism.name='Drosophila melanogaster'\n",
      "Gene: secondaryIdentifier='CG10000' publications.pubMedId='16110336' publications.firstAuthor='Quesneville Hadi' publications.journal='PLoS Comput. Biol.' publications.year=2005 organism.name='Drosophila melanogaster'\n",
      "Gene: secondaryIdentifier='CG10000' publications.pubMedId='16251381' publications.firstAuthor='Tian E' publications.journal='Glycobiology' publications.year=2006 organism.name='Drosophila melanogaster'\n"
     ]
    }
   ],
   "source": [
    "for row in template.results(row=\"rr\",size=10):\n",
    "    print(row)"
   ]
  },
  {
   "cell_type": "markdown",
   "metadata": {},
   "source": [
    "Let's say that you want to extract information for Drosophila Erecta and not Drosophila melanogaster. You can edit the query while calling the results method. In the code shown below, A refers to the code of the constraint. This code can be viewed using \"template.constraint_dict\" as shown above. "
   ]
  },
  {
   "cell_type": "code",
   "execution_count": 7,
   "metadata": {},
   "outputs": [
    {
     "name": "stdout",
     "output_type": "stream",
     "text": [
      "Gene: secondaryIdentifier='GG10035' publications.pubMedId='17994087' publications.firstAuthor='Drosophila 12 Genomes Consortium' publications.journal='Nature' publications.year=2007 organism.name='Drosophila erecta'\n",
      "Gene: secondaryIdentifier='GG10036' publications.pubMedId='17994087' publications.firstAuthor='Drosophila 12 Genomes Consortium' publications.journal='Nature' publications.year=2007 organism.name='Drosophila erecta'\n",
      "Gene: secondaryIdentifier='GG10037' publications.pubMedId='17994087' publications.firstAuthor='Drosophila 12 Genomes Consortium' publications.journal='Nature' publications.year=2007 organism.name='Drosophila erecta'\n",
      "Gene: secondaryIdentifier='GG10038' publications.pubMedId='17994087' publications.firstAuthor='Drosophila 12 Genomes Consortium' publications.journal='Nature' publications.year=2007 organism.name='Drosophila erecta'\n",
      "Gene: secondaryIdentifier='GG10039' publications.pubMedId='17994087' publications.firstAuthor='Drosophila 12 Genomes Consortium' publications.journal='Nature' publications.year=2007 organism.name='Drosophila erecta'\n",
      "Gene: secondaryIdentifier='GG10040' publications.pubMedId='17994087' publications.firstAuthor='Drosophila 12 Genomes Consortium' publications.journal='Nature' publications.year=2007 organism.name='Drosophila erecta'\n",
      "Gene: secondaryIdentifier='GG10041' publications.pubMedId='17994087' publications.firstAuthor='Drosophila 12 Genomes Consortium' publications.journal='Nature' publications.year=2007 organism.name='Drosophila erecta'\n",
      "Gene: secondaryIdentifier='GG10043' publications.pubMedId='17701050' publications.firstAuthor='Svensson Malin J' publications.journal='Dev. Genes Evol.' publications.year=2007 organism.name='Drosophila erecta'\n",
      "Gene: secondaryIdentifier='GG10043' publications.pubMedId='17994087' publications.firstAuthor='Drosophila 12 Genomes Consortium' publications.journal='Nature' publications.year=2007 organism.name='Drosophila erecta'\n",
      "Gene: secondaryIdentifier='GG10044' publications.pubMedId='17994087' publications.firstAuthor='Drosophila 12 Genomes Consortium' publications.journal='Nature' publications.year=2007 organism.name='Drosophila erecta'\n"
     ]
    }
   ],
   "source": [
    "for row in template.results(row=\"rr\",A={\"op\":\"=\",\"value\":\"Drosophila erecta\"},size=10):\n",
    "    print(row)"
   ]
  },
  {
   "cell_type": "markdown",
   "metadata": {},
   "source": [
    "This is how you can use a pre defined query and modify it to work for you. I would suggest that you visit the flymine website and take a look at some of the templates that have been defined there. Try running them using Python and change the constraints and views. "
   ]
  },
  {
   "cell_type": "markdown",
   "metadata": {},
   "source": [
    "While exploring through templates you may come across templates that can be switched on or off. To switch off a constraint that is already turned on you can use the following code: \n",
    "template.get_constraints('B').switch_off , where B is the code of the constraint in the constraint dictionary. In our example, the code is A since there is only one constraint. "
   ]
  },
  {
   "cell_type": "markdown",
   "metadata": {},
   "source": [
    "To check if a particular constraint is switchable use the get_switchable_status method. This method can return three possible values - locked, on or off. Locked means that the particular constraint is fixed and cannot be switched on or off. If a particular constraint is switchable, it will return on or off depending on it's current status. "
   ]
  },
  {
   "cell_type": "code",
   "execution_count": 8,
   "metadata": {},
   "outputs": [
    {
     "data": {
      "text/plain": [
       "'locked'"
      ]
     },
     "execution_count": 8,
     "metadata": {},
     "output_type": "execute_result"
    }
   ],
   "source": [
    "template.get_constraint('A').get_switchable_status()"
   ]
  },
  {
   "cell_type": "markdown",
   "metadata": {},
   "source": [
    "If you try to swtich off a constraint that is \"locked\" or not switchable, you will get an error. "
   ]
  },
  {
   "cell_type": "code",
   "execution_count": 12,
   "metadata": {},
   "outputs": [
    {
     "ename": "ValueError",
     "evalue": "This constraint is not switchable",
     "output_type": "error",
     "traceback": [
      "\u001b[0;31m---------------------------------------------------------------------------\u001b[0m",
      "\u001b[0;31mValueError\u001b[0m                                Traceback (most recent call last)",
      "\u001b[0;32m<ipython-input-12-140f29c16339>\u001b[0m in \u001b[0;36m<module>\u001b[0;34m()\u001b[0m\n\u001b[0;32m----> 1\u001b[0;31m \u001b[0mtemplate\u001b[0m\u001b[0;34m.\u001b[0m\u001b[0mget_constraint\u001b[0m\u001b[0;34m(\u001b[0m\u001b[0;34m'A'\u001b[0m\u001b[0;34m)\u001b[0m\u001b[0;34m.\u001b[0m\u001b[0mswitch_off\u001b[0m\u001b[0;34m(\u001b[0m\u001b[0;34m)\u001b[0m\u001b[0;34m\u001b[0m\u001b[0m\n\u001b[0m",
      "\u001b[0;32m/home/samarth/anaconda3/lib/python3.5/site-packages/intermine/constraints.py\u001b[0m in \u001b[0;36mswitch_off\u001b[0;34m(self)\u001b[0m\n\u001b[1;32m    939\u001b[0m             \u001b[0mself\u001b[0m\u001b[0;34m.\u001b[0m\u001b[0mswitched_on\u001b[0m \u001b[0;34m=\u001b[0m \u001b[0;32mFalse\u001b[0m\u001b[0;34m\u001b[0m\u001b[0m\n\u001b[1;32m    940\u001b[0m         \u001b[0;32melse\u001b[0m\u001b[0;34m:\u001b[0m\u001b[0;34m\u001b[0m\u001b[0m\n\u001b[0;32m--> 941\u001b[0;31m             \u001b[0;32mraise\u001b[0m \u001b[0mValueError\u001b[0m\u001b[0;34m(\u001b[0m\u001b[0;34m\"This constraint is not switchable\"\u001b[0m\u001b[0;34m)\u001b[0m\u001b[0;34m\u001b[0m\u001b[0m\n\u001b[0m\u001b[1;32m    942\u001b[0m \u001b[0;34m\u001b[0m\u001b[0m\n\u001b[1;32m    943\u001b[0m     \u001b[0;32mdef\u001b[0m \u001b[0mto_string\u001b[0m\u001b[0;34m(\u001b[0m\u001b[0mself\u001b[0m\u001b[0;34m)\u001b[0m\u001b[0;34m:\u001b[0m\u001b[0;34m\u001b[0m\u001b[0m\n",
      "\u001b[0;31mValueError\u001b[0m: This constraint is not switchable"
     ]
    }
   ],
   "source": [
    "template.get_constraint('A').switch_off()"
   ]
  },
  {
   "cell_type": "markdown",
   "metadata": {},
   "source": [
    "This tutorial highlighted how templates help in automating commonly used queries and can make extremely efficient workflows. "
   ]
  }
 ],
 "metadata": {
  "anaconda-cloud": {},
  "kernelspec": {
   "display_name": "Python 3",
   "language": "python",
   "name": "python3"
  },
  "language_info": {
   "codemirror_mode": {
    "name": "ipython",
    "version": 3
   },
   "file_extension": ".py",
   "mimetype": "text/x-python",
   "name": "python",
   "nbconvert_exporter": "python",
   "pygments_lexer": "ipython3",
   "version": "3.6.3"
  }
 },
 "nbformat": 4,
 "nbformat_minor": 1
}
