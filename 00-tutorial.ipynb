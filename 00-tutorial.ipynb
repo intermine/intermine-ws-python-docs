{
 "cells": [
  {
   "cell_type": "markdown",
   "metadata": {},
   "source": [
    "# Intermine-Python: Tutorial 00- Interaction with Registry"
   ]
  },
  {
   "cell_type": "markdown",
   "metadata": {},
   "source": [
    "The following functions can be used to obtain some useful information about a mine or an organism. Assuming you are inside intermine-ws-python folder: "
   ]
  },
  {
   "cell_type": "markdown",
   "metadata": {},
   "source": [
    "`getMines(organism)` fetches the mine(s) of a particular organism, say 'D. melanogaster'."
   ]
  },
  {
   "cell_type": "code",
   "execution_count": 1,
   "metadata": {},
   "outputs": [
    {
     "ename": "ModuleNotFoundError",
     "evalue": "No module named 'intermine'",
     "output_type": "error",
     "traceback": [
      "\u001b[0;31m---------------------------------------------------------------------------\u001b[0m",
      "\u001b[0;31mModuleNotFoundError\u001b[0m                       Traceback (most recent call last)",
      "\u001b[0;32m<ipython-input-1-518a70ef72ed>\u001b[0m in \u001b[0;36m<module>\u001b[0;34m\u001b[0m\n\u001b[0;32m----> 1\u001b[0;31m \u001b[0;32mfrom\u001b[0m \u001b[0mintermine\u001b[0m \u001b[0;32mimport\u001b[0m \u001b[0mregistry\u001b[0m\u001b[0;34m\u001b[0m\u001b[0;34m\u001b[0m\u001b[0m\n\u001b[0m\u001b[1;32m      2\u001b[0m \u001b[0mregistry\u001b[0m\u001b[0;34m.\u001b[0m\u001b[0mgetMines\u001b[0m\u001b[0;34m(\u001b[0m\u001b[0;34m\"D. melanogaster\"\u001b[0m\u001b[0;34m)\u001b[0m\u001b[0;34m\u001b[0m\u001b[0;34m\u001b[0m\u001b[0m\n",
      "\u001b[0;31mModuleNotFoundError\u001b[0m: No module named 'intermine'"
     ]
    }
   ],
   "source": [
    "from intermine import registry\n",
    "registry.getMines(\"D. melanogaster\")"
   ]
  },
  {
   "cell_type": "markdown",
   "metadata": {},
   "source": [
    "FlyMine<br/>\n",
    "FlyMine Beta<br/>\n",
    "XenMine"
   ]
  },
  {
   "cell_type": "markdown",
   "metadata": {},
   "source": [
    "Now that we have the mines, we can use `getInfo(mine)` to fetch all the information about a particular mine ie its description, version, organisms associated etc. Suppose we want to know more about flymine, here's what we do: "
   ]
  },
  {
   "cell_type": "code",
   "execution_count": null,
   "metadata": {},
   "outputs": [],
   "source": [
    "registry.getInfo(\"flymine\")"
   ]
  },
  {
   "cell_type": "markdown",
   "metadata": {},
   "source": [
    "Description: An integrated database for Drosophila genomics<br/>\n",
    "URL: http://www.flymine.org/flymine<br/>\n",
    "API Version: 25<br/>\n",
    "Release Version: 45.1 2017 August<br/>\n",
    "InterMine Version: 1.8.5<br/>\n",
    "Organisms: <br/>\n",
    "D. melanogaster<br/>\n",
    "Neighbours: <br/>\n",
    "MODs<br/>\n"
   ]
  },
  {
   "cell_type": "markdown",
   "metadata": {},
   "source": [
    "Now that we are very interested after viewing information about 'flymine', `getData(mine)` can be used to extract the data sets corresponding to it, the way is as follows: "
   ]
  },
  {
   "cell_type": "code",
   "execution_count": null,
   "metadata": {},
   "outputs": [],
   "source": [
    "registry.getData(\"flymine\")"
   ]
  },
  {
   "cell_type": "markdown",
   "metadata": {},
   "source": [
    "Name: Affymetrix array: Drosophila1<br/>\n",
    "Name: Affymetrix array: Drosophila2<br/>\n",
    "Name: Affymetrix array: GeneChip Drosophila Genome 2.0 Array<br/>\n",
    "Name: Affymetrix array: GeneChip Drosophila Genome Array<br/>\n",
    "Name: Anoph-Expr data set<br/>\n",
    "Name: BDGP cDNA clone data set<br/>\n",
    "Name: BDGP in situ data set<br/>\n",
    "Name: BioGRID interaction data set<br/>\n",
    "Name: Department of Genetics tiling path<br/>\n",
    "Name: DrosDel P-element and Deletion collection<br/>\n",
    "Name: Drosophila 12 Genomes Consortium homology<br/>\n",
    "Name: E-FLYC-6<br/>\n",
    "Name: Ensembl Anopheles gambiae [AgamP3.4]<br/>\n",
    "Name: FlyAtlas<br/>\n",
    "Name: FlyBase<br/>\n",
    "Name: FlyBase data set for Drosophila ananassae<br/>\n",
    "Name: FlyBase data set for Drosophila erecta<br/>\n",
    "Name: FlyBase data set for Drosophila grimshawi<br/>\n",
    "Name: FlyBase data set for Drosophila melanogaster<br/>\n",
    "Name: FlyBase data set for Drosophila mojavensis<br/>\n",
    "Name: FlyBase data set for Drosophila persimilis<br/>\n",
    "Name: FlyBase data set for Drosophila pseudoobscura pseudoobscura<br/>\n",
    "Name: FlyBase data set for Drosophila sechellia<br/>\n",
    "Name: FlyBase data set for Drosophila simulans<br/>\n",
    "Name: FlyBase data set for Drosophila virilis<br/>\n",
    "Name: FlyBase data set for Drosophila willistoni<br/>\n",
    "Name: FlyBase data set for Drosophila yakuba<br/>\n",
    "Name: FlyBase expression data<br/>\n",
    "Name: FlyBase fasta data set for Drosophila ananassae<br/>\n",
    "Name: FlyBase fasta data set for Drosophila erecta<br/>\n",
    "Name: FlyBase fasta data set for Drosophila grimshawi<br/>\n",
    "Name: FlyBase fasta data set for Drosophila melanogaster<br/>\n",
    "Name: FlyBase fasta data set for Drosophila mojavensis<br/>\n",
    "Name: FlyBase fasta data set for Drosophila persimilis<br/>\n",
    "Name: FlyBase fasta data set for Drosophila pseudoobscura pseudoobscura<br/>\n",
    "Name: FlyBase fasta data set for Drosophila sechellia<br/>\n",
    "Name: FlyBase fasta data set for Drosophila simulans<br/>\n",
    "Name: FlyBase fasta data set for Drosophila virilis<br/>\n",
    "Name: FlyBase fasta data set for Drosophila willistoni<br/>\n",
    "Name: FlyBase fasta data set for Drosophila yakuba<br/>\n",
    "Name: FlyMine intergenic regions<br/>\n",
    "Name: FlyReactome data set<br/>\n",
    "Name: FlyReg data set<br/>\n",
    "Name: GO Annotation from BHF-UCL<br/>\n",
    "Name: GO Annotation from CACAO<br/>\n",
    "Name: GO Annotation from FlyBase<br/>\n",
    "Name: GO Annotation from FlyBase<br/>\n",
    "Name: GO Annotation from GO_Central<br/>\n",
    "Name: GO Annotation from InterPro<br/>\n",
    "Name: GO Annotation from ParkinsonsUK-UCL<br/>\n",
    "Name: GO Annotation from UniProt<br/>\n",
    "Name: GO Annotation from YeastFunc<br/>\n",
    "Name: GenomeRNAi data set<br/>\n",
    "Name: HGNC identifiers<br/>\n",
    "Name: HomoloGene data set<br/>\n",
    "Name: INDAC long oligo data set<br/>\n",
    "Name: IntAct interactions data set<br/>\n",
    "Name: InterPro GO Annotation data set<br/>\n",
    "Name: InterPro data set<br/>\n",
    "Name: KEGG pathways data set<br/>\n",
    "Name: MGI identifiers<br/>\n",
    "Name: NCBI Entrez Gene identifiers<br/>\n",
    "Name: OMIM diseases<br/>\n",
    "Name: PDB dmel data set<br/>\n",
    "Name: Panther data set<br/>\n",
    "Name: PubMed to gene mapping<br/>\n",
    "Name: REDfly Drosophila transcription factor binding sites<br/>\n",
    "Name: REDfly Drosophila transcriptional cis-regulatory modules<br/>\n",
    "Name: RGD gene identifiers<br/>\n",
    "Name: Reactome pathways data set<br/>\n",
    "Name: Swiss-Prot data set<br/>\n",
    "Name: TrEMBL data set<br/>\n",
    "Name: TreeFam data set<br/>\n",
    "Name: UniProt data set<br/>\n",
    "Name: UniProt keywords data set<br/>\n",
    "Name: VectorBase AnoEST clusters<br/>\n",
    "Name: VectorBase Anopheles<br/>\n",
    "Name: WormBase genes<br/>\n",
    "Name: fly-Fish data set<br/>\n",
    "Name: miRBase Targets\n"
   ]
  }
 ],
 "metadata": {
  "kernelspec": {
   "display_name": "Python 3",
   "language": "python",
   "name": "python3"
  }
 },
 "nbformat": 4,
 "nbformat_minor": 2
}