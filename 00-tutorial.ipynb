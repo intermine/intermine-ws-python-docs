{
 "cells": [
  {
   "cell_type": "markdown",
   "metadata": {},
   "source": [
    "# Intermine-Python: Tutorial 00- Interaction with Registry"
   ]
  },
  {
   "cell_type": "markdown",
   "metadata": {},
   "source": [
    "The following functions can be used to obtain some useful information about a mine or an organism. Assuming you are inside intermine-ws-python folder: "
   ]
  },
  {
   "cell_type": "markdown",
   "metadata": {},
   "source": [
    "`getMines(organism)` fetches the mine(s) of a particular organism, say 'D. melanogaster'.\n",
    "Before run following modules, run pip install intermine in your terminal first."
   ]
  },
  {
   "cell_type": "code",
   "execution_count": null,
   "metadata": {},
   "outputs": [],
   "source": [
    "from intermine import registry\n",
    "registry.getMines(\"D. melanogaster\")"
   ]
  },
  {
   "cell_type": "markdown",
   "metadata": {},
   "source": [
    "FawMine<br/>\n",
    "FlyMine<br/>\n",
    "LocustMine<br/>\n",
    "XenMine"
   ]
  },
  {
   "cell_type": "markdown",
   "metadata": {},
   "source": [
    "FawMine</br>\n",
    "FlyMine</br>\n",
    "LocustMine</br>\n",
    "XenMine"
   ]
  },
  {
   "cell_type": "markdown",
   "metadata": {},
   "source": [
    "Now that we have the mines, we can use `getInfo(mine)` to fetch all the information about a particular mine ie its description, version, organisms associated etc. Suppose we want to know more about flymine, here's what we do: "
   ]
  },
  {
   "cell_type": "code",
   "execution_count": null,
   "metadata": {},
   "outputs": [],
   "source": [
    "registry.getInfo(\"flymine\")"
   ]
  },
  {
   "cell_type": "markdown",
   "metadata": {},
   "source": [
    "Description: An integrated database for Drosophila genomics<br/>\n",
    "URL: http://www.flymine.org/flymine<br/>\n",
    "API Version: 30<br/>\n",
    "Release Version: 49 2020 February<br/>\n",
    "InterMine Version: 4.1.3<br/>\n",
    "Organisms: <br/>\n",
    "D. melanogaster<br/>\n",
    "Neighbours: <br/>\n",
    "Animals<br/>\n"
   ]
  },
  {
   "cell_type": "markdown",
   "metadata": {},
   "source": [
    "Now that we are very interested after viewing information about 'flymine', `getData(mine)` can be used to extract the data sets corresponding to it, the way is as follows: "
   ]
  },
  {
   "cell_type": "code",
   "execution_count": null,
   "metadata": {},
   "outputs": [],
   "source": [
    "registry.getData(\"flymine\")"
   ]
  },
  {
   "cell_type": "markdown",
   "metadata": {},
   "source": [
    "Name: Affymetrix array: GeneChip Drosophila Genome 2.0 Array<br/>\n",
    "Name: Affymetrix array: GeneChip Drosophila Genome Array<br/>\n",
    "Name: Alleles and phenotypes<br/>\n",
    "Name: Artificial deletions<br/>\n",
    "Name: BDGP cDNA clone data set<br/>\n",
    "Name: BDGP in situ data set<br/>\n",
    "Name: BioGRID interaction data set<br/>\n",
    "Name: Disease Ontology<br/>\n",
    "Name: Disease models<br/>\n",
    "Name: Drosophila species orthologues and paralogues<br/>\n",
    "Name: E-FLYC-6<br/>\n",
    "Name: Fly Anatomy Ontology<br/>\n",
    "Name: Fly Development Ontology<br/>\n",
    "Name: FlyAtlas<br/>\n",
    "Name: FlyBase Contolled Vocabulary<br/>\n",
    "Name: FlyBase Controlled Vocabulary<br/>\n",
    "Name: FlyBase PubMed to gene mapping<br/>\n",
    "Name: FlyBase data set for Drosophila ananassae<br/>\n",
    "Name: FlyBase data set for Drosophila erecta<br/>\n",
    "Name: FlyBase data set for Drosophila grimshawi<br/>\n",
    "Name: FlyBase data set for Drosophila melanogaster<br/>\n",
    "Name: FlyBase data set for Drosophila mojavensis<br/>\n",
    "Name: FlyBase data set for Drosophila persimilis<br/>\n",
    "Name: FlyBase data set for Drosophila pseudoobscura pseudoobscura<br/>\n",
    "Name: FlyBase data set for Drosophila sechellia<br/>\n",
    "Name: FlyBase data set for Drosophila simulans<br/>\n",
    "Name: FlyBase data set for Drosophila virilis<br/>\n",
    "Name: FlyBase data set for Drosophila willistoni<br/>\n",
    "Name: FlyBase data set for Drosophila yakuba<br/>\n",
    "Name: FlyBase fasta data set for Drosophila ananassae<br/>\n",
    "Name: FlyBase fasta data set for Drosophila melanogaster<br/>\n",
    "Name: FlyBase fasta data set for Drosophila pseudoobscura pseudoobscura<br/>\n",
    "Name: FlyBase fasta data set for Drosophila simulans<br/>\n",
    "Name: FlyBase fasta data set for Drosophila virilis<br/>\n",
    "Name: FlyMine intergenic regions<br/>\n",
    "Name: GO<br/>\n",
    "Name: GO Annotation data set<br/>\n",
    "Name: GO Annotation for Drosophila melanogaster<br/>\n",
    "Name: HGNC identifiers<br/>\n",
    "Name: HomoloGene homology predictions<br/>\n",
    "Name: Human gene identifiers<br/>\n",
    "Name: INDAC long oligo data set<br/>\n",
    "Name: IntAct molecular interactions<br/>\n",
    "Name: InterPro data set<br/>\n",
    "Name: InterPro domain GO annotations<br/>\n",
    "Name: KEGG pathways data set<br/>\n",
    "Name: Mouse gene identifiers<br/>\n",
    "Name: Mouse identifiers<br/>\n",
    "Name: NCBI Entrez Gene identifiers<br/>\n",
    "Name: NCBI PubMed to gene mapping<br/>\n",
    "Name: OMIM diseases<br/>\n",
    "Name: PSI Molecular Interactions<br/>\n",
    "Name: Panther orthologue and paralogue predictions<br/>\n",
    "Name: PubMed to gene mapping<br/>\n",
    "Name: REDfly Drosophila transcription factor binding sites<br/>\n",
    "Name: REDfly Drosophila transcriptional cis-regulatory modules<br/>\n",
    "Name: RNAi screen phenotypes<br/>\n",
    "Name: Rat gene identifiers<br/>\n",
    "Name: Reactome pathways data set<br/>\n",
    "Name: Sequence Ontology<br/>\n",
    "Name: Swiss-Prot data set<br/>\n",
    "Name: The Gene Ontology<br/>\n",
    "Name: The Sequence Ontology<br/>\n",
    "Name: The developmental transcriptome of Drosophila melanogaster.<br/>\n",
    "Name: TrEMBL data set<br/>\n",
    "Name: TreeFam data set<br/>\n",
    "Name: UniProt data set<br/>\n",
    "Name: Uniprot data set<br/>\n",
    "Name: WormBase gene identifiers<br/>\n",
    "Name: Wormbase gene identifiers<br/>\n",
    "Name: fly-Fish data set<br/>\n",
    "Name: miRBase Targets<br/>\n",
    "Name: microRNA Targets\n"
   ]
  }
 ],
 "metadata": {
  "kernelspec": {
   "display_name": "Python 3.8.1 64-bit",
   "language": "python",
   "name": "python38164bit64f092a14f47420fadd99522ecd01b91"
  }
 },
 "nbformat": 4,
 "nbformat_minor": 2
}