{
 "cells": [
  {
   "cell_type": "markdown",
   "metadata": {},
   "source": [
    "# Intermine-Python: Tutorial 14 - Visualisation in Intermine"
   ]
  },
  {
   "cell_type": "markdown",
   "metadata": {},
   "source": [
    "With the great need for data visualisation in the present world, we have introduced a few visual features to Intermine as well. We have tried to cover the most common needs of visualisation and have explained their use in this tutorial.<br/>\n",
    "NOTE: This feature of Python Client is supported only on Python Versions >= 3.6 because of the dependencies."
   ]
  },
  {
   "cell_type": "code",
   "execution_count": null,
   "metadata": {},
   "outputs": [],
   "source": [
    "from intermine import bar_chart as b\n",
    "# then get token from your account details\n",
    "# Syntax: b.save_mine_and_token(\"humanmine\",\"<token>\")"
   ]
  },
  {
   "cell_type": "markdown",
   "metadata": {},
   "source": [
    "If you want to plot the GO terms versus p-value you can use `plot_go_vs_p(list name)`, as the name suggests. Each bar in the bar-chart is labelled by the gene count corresponding to the particular GO Term."
   ]
  },
  {
   "cell_type": "code",
   "execution_count": null,
   "metadata": {},
   "outputs": [],
   "source": [
    "# Try running plot_go_vs_p(list name) using the list PL_obesityMonogen_ORahilly09 ...\n",
    "# b.plot_go_vs_p(list name)"
   ]
  },
  {
   "cell_type": "markdown",
   "metadata": {},
   "source": [
    "Similarly, if you want to plot GO Terms versus gene count you can use `plot_go_vs_count(list name)`. Again, each bar in the bar-chart is labelled by the annotation corresponding to the particular GO Term."
   ]
  },
  {
   "cell_type": "code",
   "execution_count": null,
   "metadata": {},
   "outputs": [],
   "source": [
    "# Try running b.plot_go_vs_count(list name) using the same list \n",
    "# b.plot_go_vs_count(list name)"
   ]
  },
  {
   "cell_type": "markdown",
   "metadata": {},
   "source": [
    "We will soon be coming out with more plots. If you have any ideas feel free to open an issue in the Python Client repository."
   ]
  }
 ],
 "metadata": {
  "kernelspec": {
   "display_name": "Python 3",
   "language": "python",
   "name": "python3"
  },
  "language_info": {
   "codemirror_mode": {
    "name": "ipython",
    "version": 3
   },
   "file_extension": ".py",
   "mimetype": "text/x-python",
   "name": "python",
   "nbconvert_exporter": "python",
   "pygments_lexer": "ipython3",
   "version": "3.7.4"
  }
 },
 "nbformat": 4,
 "nbformat_minor": 2
}
