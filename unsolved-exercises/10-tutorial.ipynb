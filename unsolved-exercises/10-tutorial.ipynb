{
 "cells": [
  {
   "cell_type": "markdown",
   "metadata": {},
   "source": [
    "# Intermine-Python: Tutorial 10: Enrichment Calculations on Lists"
   ]
  },
  {
   "cell_type": "markdown",
   "metadata": {},
   "source": [
    "This tutorial will talk about how you can perform enrichment calculations on lists that you have access to. "
   ]
  },
  {
   "cell_type": "code",
   "execution_count": null,
   "metadata": {},
   "outputs": [],
   "source": [
    "from intermine.webservice import Service\n",
    "service = Service(\"https://www.flymine.org/flymine/service\")"
   ]
  },
  {
   "cell_type": "markdown",
   "metadata": {},
   "source": [
    "The intermine service has various widgets that can perform different functions. These widgets are stored in a dicitionary in the Service class. To view all the widgets use `service.widgets`."
   ]
  },
  {
   "cell_type": "code",
   "execution_count": null,
   "metadata": {},
   "outputs": [],
   "source": [
    "# Try running service.widgets to see the output...\n"
   ]
  },
  {
   "cell_type": "markdown",
   "metadata": {},
   "source": [
    "If you want to view only those widgets that are related to enrichment, you can use filter based on the widget type. I've printed all the enrichment related widgets below. "
   ]
  },
  {
   "cell_type": "code",
   "execution_count": null,
   "metadata": {},
   "outputs": [],
   "source": [
    "for key in service.widgets.keys():\n",
    "    if service.widgets[key][\"widgetType\"]==\"enrichment\":\n",
    "        print(service.widgets[key])"
   ]
  },
  {
   "cell_type": "markdown",
   "metadata": {},
   "source": [
    "We will now get a list on which we want to perform the analysis using the list manager. \n",
    "\n",
    ">In the code below we've used a public list from FlyMine, but it should be okay to use another list from any other InterMine, or a private list you've made yourself - just remember that the more items in the list, the more likely you are to get meaningful results. A list of six identifiers might not return much! "
   ]
  },
  {
   "cell_type": "code",
   "execution_count": null,
   "metadata": {},
   "outputs": [],
   "source": [
    "# Last tutorial we learned how to save lists - now we'll retrieve one and re-use it.\n",
    "# We need to get a list manager first, like before \n",
    "lm=service.list_manager()\n",
    "# Now, we need to get a list by name using the method lm.get_list(name=\"list name here\")\n",
    "# Try getting a list named \"PL FlyAtlas_brain_top\" and store it in a variable called my_list. \n"
   ]
  },
  {
   "cell_type": "markdown",
   "metadata": {},
   "source": [
    "To perform any enrichment analysis on the list use the `calculate_enrichment` method."
   ]
  },
  {
   "cell_type": "code",
   "execution_count": null,
   "metadata": {},
   "outputs": [],
   "source": [
    "# The syntax to get enrichment stats for a list is as follows: \n",
    "# my_list.calculate_enrichment(widget=\"widget_name\",maxp=some_max_p_value)\n",
    "# \n",
    "# Try getting \"publication_enrichment\" with a maximum p value of 0.01.\n",
    "# store it in a variable called enrichment_results\n",
    "\n"
   ]
  },
  {
   "cell_type": "markdown",
   "metadata": {},
   "source": [
    "Ok, now let's look at the results... "
   ]
  },
  {
   "cell_type": "code",
   "execution_count": null,
   "metadata": {},
   "outputs": [],
   "source": [
    "for i in enrichment_results:\n",
    "    print(i.identifier,i.description,i.p_value)"
   ]
  },
  {
   "cell_type": "markdown",
   "metadata": {
    "collapsed": true
   },
   "source": [
    "This is how you can perform enrichment calculations on lists of your choice. "
   ]
  }
 ],
 "metadata": {
  "anaconda-cloud": {},
  "kernelspec": {
   "display_name": "Python 3",
   "language": "python",
   "name": "python3"
  },
  "language_info": {
   "codemirror_mode": {
    "name": "ipython",
    "version": 3
   },
   "file_extension": ".py",
   "mimetype": "text/x-python",
   "name": "python",
   "nbconvert_exporter": "python",
   "pygments_lexer": "ipython3",
   "version": "3.7.4"
  }
 },
 "nbformat": 4,
 "nbformat_minor": 1
}
