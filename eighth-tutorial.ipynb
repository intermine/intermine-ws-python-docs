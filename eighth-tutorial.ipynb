{
 "cells": [
  {
   "cell_type": "markdown",
   "metadata": {},
   "source": [
    "# Intermine-Python: Tutorial 8: Accessing your saved Templates"
   ]
  },
  {
   "cell_type": "markdown",
   "metadata": {},
   "source": [
    "This very short tutorial will talk about how you can access your saved templates and lists if you have your login information (username and password). If you don't have an account, you can create one at http://www.flymine.org/"
   ]
  },
  {
   "cell_type": "markdown",
   "metadata": {},
   "source": [
    "Once, you have made an account, you can use the web service to create a query of your choice and save it as a template. This template can be used through the Python API or through the web service. "
   ]
  },
  {
   "cell_type": "markdown",
   "metadata": {},
   "source": [
    "To login and access your templates through Python, you can provide your login information as shown below. Note that the code shown below is in comments because it needs to be specific to your account. Change the username and password to match yours, uncomment the code, and then run it. "
   ]
  },
  {
   "cell_type": "code",
   "execution_count": 2,
   "metadata": {},
   "outputs": [],
   "source": [
    "from intermine.webservice import Service\n",
    "from intermine import query"
   ]
  },
  {
   "cell_type": "code",
   "execution_count": 3,
   "metadata": {
    "collapsed": true
   },
   "outputs": [],
   "source": [
    "service=Service(\"www.flymine.org/query/service\",username=\"Enter username\",password=\"Enter password\""
   ]
  },
  {
   "cell_type": "code",
   "execution_count": 4,
   "metadata": {
    "collapsed": true
   },
   "outputs": [],
   "source": [
    "#template=service.get_template(\"Name of a saved template\")"
   ]
  },
  {
   "cell_type": "markdown",
   "metadata": {},
   "source": [
    "You can then play around with this saved template like any of the existing templates on Flymine. "
   ]
  },
  {
   "cell_type": "markdown",
   "metadata": {},
   "source": [
    "To view the names of all the available templates you can view the templates dictionary and iterate through it. This can be done as follows. "
   ]
  },
  {
   "cell_type": "code",
   "execution_count": 5,
   "metadata": {},
   "outputs": [],
   "source": [
    "service = Service(\"www.flymine.org/query/service\")"
   ]
  },
  {
   "cell_type": "code",
   "execution_count": 11,
   "metadata": {},
   "outputs": [
    {
     "name": "stdout",
     "output_type": "stream",
     "text": [
      "Gene_upstreamRegulatoryRegions\n",
      "Gene_RNAi\n",
      "Gene_Pathway\n",
      "GOTerm_Gene2\n",
      "Gene_FlyAtlas_TissueList\n",
      "AnatomyTerm_Region\n",
      "Chromosome_GeneInsertionLocation\n",
      "All_Genes_In_Organism_To_Publications\n",
      "FlyRegBindingSite_TranscriptionFactor\n",
      "RNAiScreen_genes\n",
      "Protein_GOterms_1\n",
      "ChromLocation_TFBindingSiteLocationGeneFactor\n",
      "Protein_GeneChromosomeLength\n",
      "modENCODE_RNA_seq_Tissues\n",
      "Dataset_TF_BindingSites\n",
      "Gene_TimeCourseExpression\n",
      "TimeCourseData_Gene\n",
      "organism_allmiRNA\n",
      "GO_GeneOrthologues\n",
      "RNA_seq_Genes\n",
      "Tissue_Flyatlas\n",
      "Chromosome_CRMOverlappingInsertion\n",
      "protein_domains2\n",
      "Pathway_GenesOrthol_new2\n",
      "ChromLocation_CRM\n",
      "Gene_Interactions2\n",
      "Gene_PointMutationLocation\n",
      "Gene_Insertion\n",
      "Gene_Protein\n",
      "Gene_AdjacentGene_FlyAtlas_upstream\n",
      "DrosDel_GeneLocation\n",
      "ChromLocation_Gene\n",
      "Gene_TranscriptExonLocation\n",
      "GO_Gene\n",
      "Disease_gene2\n",
      "Gene_AlleleStocks\n",
      "ECnumber_gene_protein\n",
      "Gene_pathway_interactions\n",
      "Gene_Probe\n",
      "GeneTissue_FlyAtlas\n",
      "Gene_transposableElementsOverlappingExons\n",
      "ChromLocation_GeneTranscriptINDAC\n",
      "protein_domain\n",
      "organismGenes_GOterms\n",
      "InterPro_Domain_Family\n",
      "miRNAtargetGene_miRNAgene\n",
      "Gene_INDAC\n",
      "Organism_NaturalTransposableElements\n",
      "Publication_Genes\n",
      "Gene_GO\n",
      "NaturalTransposableElement_InsertedElements\n",
      "Genes_Publications\n",
      "Organism_NaturalTransposableElementsandSites\n",
      "Gene_IntronChromosome\n",
      "Gene_disease\n",
      "Organism_Protein\n",
      "Gene_agLifecycleExpression\n",
      "Gene_TranscriptOrthologue\n",
      "Organism_GOtermsOrthologues\n",
      "Organism_transposableElementInsertionSites\n",
      "Disease_gene_orthologue\n",
      "OrganismGO_GenePointMutation\n",
      "TranscriptionFactor_Genes\n",
      "Transcriptionfactor_TFBindingSiteGene\n",
      "Gene_FlyFish\n",
      "Gene_ExonLocation2\n",
      "Gene_FlyAtlas\n",
      "protein_interactions\n",
      "GOterm_gene_report\n",
      "Gene_1CDSsequence\n",
      "Transcript_INDAC\n",
      "Stage_FlyFishBDGP\n",
      "Gene_OverlapppingGenes\n",
      "miRNA_Targets\n",
      "Gene_AdjacentGene_FlyAtlas_downstream\n",
      "Gene_transcriptionFactors\n",
      "Organism_3UTR\n",
      "Protein_Publication\n",
      "ChromLocation_RegulatoryRegion\n",
      "ProbeSet_FlyAtlas\n",
      "Gene_proteindomain\n",
      "Gene_Publications\n",
      "Gene_BDGP\n",
      "ChromLocation_CRMOverlappingTFBindingsite\n",
      "INDAC_GeneLocation\n",
      "ListPathway\n",
      "Intergenic_RegRegion\n",
      "Gene_RegionLocation\n",
      "MeSH_Publication\n",
      "GotermGene2genes\n",
      "Gene_CDSs\n",
      "Gene_Location\n",
      "Gene_AdjacentGenes\n",
      "Organism_Intergenic\n",
      "Protein_PublicationAll\n",
      "Gene_RegulatoryRegion\n",
      "GOterm_GenesInsertions\n",
      "ChromLocation_GeneTranscriptExon\n",
      "BDGP_Gene\n",
      "organism_allGenes\n",
      "FlyFish_Genes\n",
      "AllGene_Chromosome\n",
      "Gene_Orth_seq\n",
      "PointMutation_Gene_Chromosome\n",
      "Gene_AdjacentGenesLocations\n",
      "Organism_5UTR\n",
      "Chromosome_IntergenicSequence\n",
      "Gene_RNA_seq\n",
      "Gene_DrosophilaOrthologues\n",
      "Gene_Alleles\n",
      "Mutagen_Allele\n",
      "Chromosome_Gene\n",
      "geneInteractiongene\n",
      "AlleleClass_Allele\n",
      "Gene_FlyAtlasGO\n",
      "GOterm_genesDrosDelDeletion\n",
      "Pathway_Genes\n",
      "Gene_BDGPFlyFish\n",
      "AnatomyTerm_Alleles\n",
      "Gene_GOAll\n",
      "Probe_Gene\n",
      "Clone_gene\n",
      "Gene_Orth\n"
     ]
    }
   ],
   "source": [
    "templates=service.templates\n",
    "for name in templates.keys():\n",
    "    print(name)"
   ]
  },
  {
   "cell_type": "markdown",
   "metadata": {},
   "source": [
    "This dictionary contains all the information about all the available templates, including the exact name and description. If you now want to view the details about a particular template name, this can be done as shown below. "
   ]
  },
  {
   "cell_type": "code",
   "execution_count": 12,
   "metadata": {},
   "outputs": [
    {
     "data": {
      "text/plain": [
       "'<template comment=\"\" name=\"Gene_RNAi\" title=\"Gene --&gt; RNAi phenotypes\"><query longDescription=\"Show RNAi phenotypes for a specified gene or genes.\" model=\"genomic\" name=\"Gene_RNAi\" sortOrder=\"Gene.primaryIdentifier asc\" view=\"Gene.primaryIdentifier Gene.symbol Gene.rnaiResults.phenotype Gene.rnaiResults.score Gene.rnaiResults.rnaiScreen.scoreType Gene.rnaiResults.reagentId Gene.rnaiResults.conditions Gene.rnaiResults.rnaiScreen.publication.pubMedId Gene.rnaiResults.rnaiScreen.name Gene.rnaiResults.rnaiScreen.assay Gene.rnaiResults.rnaiScreen.bioSourceName Gene.rnaiResults.rnaiScreen.bioSourceType Gene.rnaiResults.rnaiScreen.method\"><constraint description=\"Show RNAi phenotypes for the following gene:\" editable=\"true\" extraValue=\"D. melanogaster\" op=\"LOOKUP\" path=\"Gene\" value=\"eve\"/></query></template>'"
      ]
     },
     "execution_count": 12,
     "metadata": {},
     "output_type": "execute_result"
    }
   ],
   "source": [
    "templates[\"Gene_RNAi\"]"
   ]
  },
  {
   "cell_type": "markdown",
   "metadata": {},
   "source": [
    "If you don't feel comfortable with viewing this dictionary, you can also view the templates on: http://beta.flymine.org/beta/templates.do and http://flymine.org/flymine/templates.do  You can scroll through the list of templates. If you find an interesting template, click on the template and click on the Python tab (in blue). This would show you how to call the template in Python using the exact name. "
   ]
  }
 ],
 "metadata": {
  "anaconda-cloud": {},
  "kernelspec": {
   "display_name": "Python 3",
   "language": "python",
   "name": "python3"
  },
  "language_info": {
   "codemirror_mode": {
    "name": "ipython",
    "version": 3
   },
   "file_extension": ".py",
   "mimetype": "text/x-python",
   "name": "python",
   "nbconvert_exporter": "python",
   "pygments_lexer": "ipython3",
   "version": "3.6.3"
  }
 },
 "nbformat": 4,
 "nbformat_minor": 1
}
